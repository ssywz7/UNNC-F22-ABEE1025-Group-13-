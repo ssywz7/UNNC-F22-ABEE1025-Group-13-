{
 "cells": [
  {
   "cell_type": "code",
   "execution_count": null,
   "id": "ea4043cb",
   "metadata": {},
   "outputs": [],
   "source": [
    "a = int(input()) # enter the number of materials\n",
    "n = 0\n",
    "R = 0\n",
    "while n < a:\n",
    "    d = int(input()) # respectively enter the thickness of each material\n",
    "    k = int(input()) # respectively enter the thermal conductivity of each material\n",
    "    R += d / k\n",
    "    n += 1\n",
    "print(1 / R) # get U-value"
   ]
  },
  {
   "cell_type": "code",
   "execution_count": null,
   "id": "5db69c30",
   "metadata": {},
   "outputs": [],
   "source": []
  }
 ],
 "metadata": {
  "kernelspec": {
   "display_name": "Python 3 (ipykernel)",
   "language": "python",
   "name": "python3"
  },
  "language_info": {
   "codemirror_mode": {
    "name": "ipython",
    "version": 3
   },
   "file_extension": ".py",
   "mimetype": "text/x-python",
   "name": "python",
   "nbconvert_exporter": "python",
   "pygments_lexer": "ipython3",
   "version": "3.9.12"
  }
 },
 "nbformat": 4,
 "nbformat_minor": 5
}
